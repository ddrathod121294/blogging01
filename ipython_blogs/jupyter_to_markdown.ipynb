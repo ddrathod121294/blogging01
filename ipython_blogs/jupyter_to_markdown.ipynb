{
 "cells": [
  {
   "cell_type": "markdown",
   "id": "1bf20a08",
   "metadata": {},
   "source": [
    "# Convert Jupyter notebook\n",
    "\n",
    "We use jupyter notebook for writng code and report in single file. We can compile the notebook to outcome beautiful HTML, markdown or even slides. But have you ever wondered how this all is done? Have ever felt to modify the outcome of HTML or markdown from jupyter notebook? Don't worry we will learn this all in this tutorial. We will see what jupyter notebook is made of. And how we can selectively modify the outcome of the conversion of jupter notebook to any other format.\n",
    "\n",
    "So we will first understand what jupyter notebook is made of. We will read the *.ipynb* file from python and then understand its content."
   ]
  },
  {
   "cell_type": "code",
   "execution_count": null,
   "id": "99496ee2",
   "metadata": {},
   "outputs": [],
   "source": []
  }
 ],
 "metadata": {
  "kernelspec": {
   "display_name": "Python 3 (ipykernel)",
   "language": "python",
   "name": "python3"
  },
  "language_info": {
   "codemirror_mode": {
    "name": "ipython",
    "version": 3
   },
   "file_extension": ".py",
   "mimetype": "text/x-python",
   "name": "python",
   "nbconvert_exporter": "python",
   "pygments_lexer": "ipython3",
   "version": "3.10.4"
  }
 },
 "nbformat": 4,
 "nbformat_minor": 5
}
