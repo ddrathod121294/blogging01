{
 "cells": [
  {
   "cell_type": "markdown",
   "id": "1bf20a08",
   "metadata": {},
   "source": [
    "# Understand *.ipynb* file\n",
    "\n",
    "We use jupyter notebook for writng code and report in single file. We can compile the notebook to outcome beautiful HTML, markdown or even slides. But have you ever wondered how this all is done? Have ever felt to modify the outcome of HTML or markdown from jupyter notebook? Don't worry we will learn this all in this tutorial. We will see what jupyter notebook is made of. And how we can selectively modify the outcome of the conversion of jupter notebook to any other format.\n",
    "\n",
    "So we will first understand what jupyter notebook is made of. We will read the *.ipynb* file from python and then understand its content. For this we will make one notebook file in which we will have code, markdown content, plot and some printed outcomes. This convers most of the usage of the jupyter notebook file. We will not conver how widgets and other things are output from jupyter notebook for now being.\n",
    "\n",
    "[This is the notebook]{https://github.com/ddrathod121294/blogging01/blob/591def9953c75349ea5a76d682af4cce4f1ea74a/ipython_blogs/notebook1.ipynb)\n",
    "\n",
    "```py\n",
    "filepath = '.\\notebook1.ipynb'\n",
    "```\n",
    "\n",
    "Jupyter notebook arranges the data in JSON format. So we will import the JSON and parse the data of the file."
   ]
  },
  {
   "cell_type": "code",
   "execution_count": 1,
   "id": "fa5667f9",
   "metadata": {
    "tags": [
     "remove-input"
    ]
   },
   "outputs": [],
   "source": [
    "filepath = r'C:\\Users\\darsh\\OneDrive - Indian Institute of Science\\blogging\\ipython_blogs\\notebook1.ipynb'"
   ]
  },
  {
   "cell_type": "code",
   "execution_count": 4,
   "id": "52cf33d1",
   "metadata": {},
   "outputs": [],
   "source": [
    "import json\n",
    "with open(filepath,'r') as f:\n",
    "    str1 = f.read()\n",
    "nb1 = json.loads(str1)"
   ]
  },
  {
   "cell_type": "markdown",
   "id": "57018d62",
   "metadata": {},
   "source": [
    "here ```nb1``` is the dict like object, with key and value pairs. The content of the notebook is in ```nb1['cells']```. We will deeply look into this soon. ```nb1['metadata']``` contains the metadata of the jupyter notebook. These metadata can be defined in the notebook from ```Edit > Edit Notebook Metadata ``` menubar. Metadata contains the information about the type of language used and other things. We can modify thie metadata of the file. But it is not advisable (unless you know what you are doing) and required right now. This metadata is mainly used for formating and other information. This is not printed or outcome anywhere. ```nb1['nbformat']``` contains the format of the jupyter notebook. I think of it as a version of the notebook. Currently, this is 4. Similarly, ```nb1['nbformat']``` value is 5.\n",
    "\n",
    "We will mainly work with ```nb1['cells']``` in this tutorial."
   ]
  },
  {
   "cell_type": "code",
   "execution_count": 9,
   "id": "59addebf",
   "metadata": {},
   "outputs": [
    {
     "name": "stdout",
     "output_type": "stream",
     "text": [
      "['cells', 'metadata', 'nbformat', 'nbformat_minor']\n"
     ]
    }
   ],
   "source": [
    "print(list(nb1.keys()))"
   ]
  },
  {
   "cell_type": "markdown",
   "id": "dd0c1d57",
   "metadata": {},
   "source": [
    "```nb1['cells']``` is the list. Each element in the list is dict like object. The keys of the dict varies according to the type of the cell, as shown below. We will go through each key step by step."
   ]
  },
  {
   "cell_type": "code",
   "execution_count": 28,
   "id": "4b516c15",
   "metadata": {},
   "outputs": [
    {
     "name": "stdout",
     "output_type": "stream",
     "text": [
      "for content type = markdown\n",
      "['cell_type', 'id', 'metadata', 'source']\n",
      "for content type = code\n",
      "['cell_type', 'execution_count', 'id', 'metadata', 'outputs', 'source']\n"
     ]
    }
   ],
   "source": [
    "cells = nb1['cells']\n",
    "n = 0\n",
    "print(f\"for content type = {cells[n]['cell_type']}\")\n",
    "print(list((cells[n].keys())))\n",
    "n = 3\n",
    "print(f\"for content type = {cells[n]['cell_type']}\")\n",
    "print(list((cells[n].keys())))"
   ]
  },
  {
   "cell_type": "markdown",
   "id": "ac7f0543",
   "metadata": {},
   "source": [
    "```cell_type``` contains the information about the tye of the cell, whether code or markdown type of the cell. ```id``` is the unique id of each cell. ```metadata``` contain the meta information about the cell. This serves the same purpose as the metadata of the file, as explained above. We will use this meta information mainly to know whether to omit the cell or not for outcome. ```metadata``` contains the dict like object with key-value pair. It contains ```tags``` for each cell. We can give tags to certain cell to omit that particular cell in the outcome.\n",
    "\n",
    "You can go to ```View > Cell Toolbar > Tags``` to view the tags. We can then add the tags to the cell. We will use following tags as per the requirements:-\n",
    "- remove-input :- to remove the input of the cell\n",
    "- remove-output :-  to remove the output of the cell. This will be used for code type cell mainly.\n",
    "- remove-cell :- to remove the cell itself. It removes both the input and output.\n",
    "\n",
    "```source``` contains the content of the cell. If it is markdown type of cell then it contains the text or if it is code type of cell then it contains the code inside the cell.\n",
    "\n",
    "Now for code type of cell there are some extra key-value pair to account for output and execution number of the cell. By now you would have guessed what is what, but for the sake of bravity...\n",
    "\n",
    "```execution_count``` contains the count of the run. When you run the cell the count increases by one. If you run the same cell 5 times then you will see its count to be 5.\n",
    "\n",
    "```outputs``` contains the output of the code. It can be plot, image or some text to be printed or nothing."
   ]
  },
  {
   "cell_type": "code",
   "execution_count": null,
   "id": "dbb7e73a",
   "metadata": {},
   "outputs": [],
   "source": []
  },
  {
   "cell_type": "code",
   "execution_count": null,
   "id": "1229e5cc",
   "metadata": {},
   "outputs": [],
   "source": []
  },
  {
   "cell_type": "code",
   "execution_count": null,
   "id": "cfb3f6ef",
   "metadata": {},
   "outputs": [],
   "source": []
  },
  {
   "cell_type": "code",
   "execution_count": null,
   "id": "113c3303",
   "metadata": {},
   "outputs": [],
   "source": []
  }
 ],
 "metadata": {
  "kernelspec": {
   "display_name": "Python 3 (ipykernel)",
   "language": "python",
   "name": "python3"
  },
  "language_info": {
   "codemirror_mode": {
    "name": "ipython",
    "version": 3
   },
   "file_extension": ".py",
   "mimetype": "text/x-python",
   "name": "python",
   "nbconvert_exporter": "python",
   "pygments_lexer": "ipython3",
   "version": "3.10.4"
  }
 },
 "nbformat": 4,
 "nbformat_minor": 5
}
