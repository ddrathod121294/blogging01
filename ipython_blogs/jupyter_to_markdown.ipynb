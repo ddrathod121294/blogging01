{
 "cells": [
  {
   "cell_type": "markdown",
   "id": "1bf20a08",
   "metadata": {},
   "source": [
    "# Understand *.ipynb* file\n",
    "\n",
    "We use jupyter notebook for writng code and report in single file. We can compile the notebook to outcome beautiful HTML, markdown or even slides. But have you ever wondered how this all is done? Have ever felt to modify the outcome of HTML or markdown from jupyter notebook? Don't worry we will learn this all in this tutorial. We will see what jupyter notebook is made of. And how we can selectively modify the outcome of the conversion of jupter notebook to any other format.\n",
    "\n",
    "So we will first understand what jupyter notebook is made of. We will read the *.ipynb* file from python and then understand its content. For this we will make one notebook file in which we will have code, markdown content, plot and some printed outcomes. This convers most of the usage of the jupyter notebook file. We will not conver how widgets and other things are output from jupyter notebook for now being.\n",
    "\n",
    "[This is the notebook]{https://github.com/ddrathod121294/blogging01/blob/591def9953c75349ea5a76d682af4cce4f1ea74a/ipython_blogs/notebook1.ipynb)\n",
    "\n",
    "```py\n",
    "filepath = '.\\notebook1.ipynb'\n",
    "```\n",
    "\n",
    "Jupyter notebook arranges the data in JSON format. So we will import the JSON and parse the data of the file."
   ]
  },
  {
   "cell_type": "code",
   "execution_count": 1,
   "id": "ce59b97b",
   "metadata": {
    "tags": [
     "remove-input"
    ]
   },
   "outputs": [],
   "source": [
    "filepath = r'C:\\Users\\darsh\\OneDrive - Indian Institute of Science\\blogging\\ipython_blogs\\notebook1.ipynb'"
   ]
  },
  {
   "cell_type": "code",
   "execution_count": 2,
   "id": "ebacd263",
   "metadata": {},
   "outputs": [],
   "source": [
    "import json\n",
    "with open(filepath,'r') as f:\n",
    "    str1 = f.read()\n",
    "nb1 = json.loads(str1)"
   ]
  },
  {
   "cell_type": "markdown",
   "id": "1de998e8",
   "metadata": {},
   "source": [
    "here ```nb1``` is the dict like object, with key and value pairs. The content of the notebook is in ```nb1['cells']```. We will deeply look into this soon. ```nb1['metadata']``` contains the metadata of the jupyter notebook. These metadata can be defined in the notebook from ```Edit > Edit Notebook Metadata ``` menubar. Metadata contains the information about the type of language used and other things. We can modify thie metadata of the file. But it is not advisable (unless you know what you are doing) and required right now. This metadata is mainly used for formating and other information. This is not printed or outcome anywhere. ```nb1['nbformat']``` contains the format of the jupyter notebook. I think of it as a version of the notebook. Currently, this is 4. Similarly, ```nb1['nbformat']``` value is 5.\n",
    "\n",
    "We will mainly work with ```nb1['cells']``` in this tutorial."
   ]
  },
  {
   "cell_type": "code",
   "execution_count": 3,
   "id": "7bb4df23",
   "metadata": {},
   "outputs": [
    {
     "name": "stdout",
     "output_type": "stream",
     "text": [
      "['cells', 'metadata', 'nbformat', 'nbformat_minor']\n"
     ]
    }
   ],
   "source": [
    "print(list(nb1.keys()))"
   ]
  },
  {
   "cell_type": "markdown",
   "id": "dce1eb79",
   "metadata": {},
   "source": [
    "### Understanding cells and its content\n",
    "\n",
    "```nb1['cells']``` is the list. Each element in the list is dict like object. The keys of the dict varies according to the type of the cell, as shown below. We will go through each key step by step."
   ]
  },
  {
   "cell_type": "code",
   "execution_count": 4,
   "id": "6fd1aac4",
   "metadata": {},
   "outputs": [
    {
     "name": "stdout",
     "output_type": "stream",
     "text": [
      "for content type = markdown\n",
      "['cell_type', 'id', 'metadata', 'source']\n",
      "for content type = code\n",
      "['cell_type', 'execution_count', 'id', 'metadata', 'outputs', 'source']\n"
     ]
    }
   ],
   "source": [
    "cells = nb1['cells']\n",
    "n = 0\n",
    "print(f\"for content type = {cells[n]['cell_type']}\")\n",
    "print(list((cells[n].keys())))\n",
    "n = 3\n",
    "print(f\"for content type = {cells[n]['cell_type']}\")\n",
    "print(list((cells[n].keys())))"
   ]
  },
  {
   "cell_type": "markdown",
   "id": "93840c73",
   "metadata": {},
   "source": [
    "```cell_type``` contains the information about the tye of the cell, whether code or markdown type of the cell. ```id``` is the unique id of each cell. ```metadata``` contain the meta information about the cell. This serves the same purpose as the metadata of the file, as explained above. We will use this meta information mainly to know whether to omit the cell or not for outcome. ```metadata``` contains the dict like object with key-value pair. It contains ```tags``` for each cell. We can give tags to certain cell to omit that particular cell in the outcome.\n",
    "\n",
    "You can go to ```View > Cell Toolbar > Tags``` to view the tags. We can then add the tags to the cell. We will use following tags as per the requirements:-\n",
    "- remove-input :- to remove the input of the cell\n",
    "- remove-output :-  to remove the output of the cell. This will be used for code type cell mainly.\n",
    "- remove-cell :- to remove the cell itself. It removes both the input and output.\n",
    "\n",
    "```source``` contains the content of the cell. If it is markdown type of cell then it contains the text or if it is code type of cell then it contains the code inside the cell.\n",
    "\n",
    "Now for code type of cell there are some extra key-value pair to account for output and execution number of the cell. By now you would have guessed what is what, but for the sake of bravity...\n",
    "\n",
    "```execution_count``` contains the count of the run. When you run the cell the count increases by one. If you run the same cell 5 times then you will see its count to be 5.\n",
    "\n",
    "```outputs``` contains the output of the code. It contains the list of all the outputs. It can be list plot, image or some text to be printed or nothing.\n",
    "\n",
    "### Understanding code cell output\n",
    "Before putting all things togather we need to understand how the ```outputs``` varies with different types of data and how we can compile it togather. Do note that, only the code cell contains the output. Here 4th cell is the code cell and it outputs plot and prints one statement. So the ```outputs``` cell contain list of 2 dict like elements. The first dict is for the image of the plot in *.png* format. The second dict is for the text. We can get this information from the ```output_type``` key of the element, as shown below."
   ]
  },
  {
   "cell_type": "code",
   "execution_count": 21,
   "id": "5b8024ea",
   "metadata": {},
   "outputs": [
    {
     "name": "stdout",
     "output_type": "stream",
     "text": [
      "display_data\n",
      "stream\n"
     ]
    }
   ],
   "source": [
    "output = cells[3]['outputs']\n",
    "print(output[0]['output_type'])\n",
    "print(output[1]['output_type'])"
   ]
  },
  {
   "cell_type": "markdown",
   "id": "37c50892",
   "metadata": {},
   "source": [
    "To access the data of the respective items we need to use different type of keys. Like for image type of data, the image is in ```data``` keys of that element. and for ```stream``` i.e. text like object, the data is in ```text``` key. So we will accordingly access the data of the output depending upon its type.\n",
    "\n",
    "Now we will first try to put all the inputs and outputs togather and see the result.\n",
    "\n",
    "## Preparing first *.md* file\n",
    "\n",
    "We will concatenate all the ```source``` i.e. inputs of all the cells. But if the cell is code type then we have to append its output before moving onto the next cell. So we will have to write nested kind of if;else to tackle this situation.\n",
    "\n",
    "```source``` contains the input text of the cell. This is the list of all the lines. So we will join the list and make it single string before appending it to final string. If the cell type is code, then we will have to enclose the code in three ``` ` ``` (Backticks). We will also append `\\n` at the end of each cell because in markdown it does not matter how many linebreaks you give, if it is more than one then it only consideres one."
   ]
  },
  {
   "cell_type": "code",
   "execution_count": 33,
   "id": "df1684ce",
   "metadata": {},
   "outputs": [],
   "source": [
    "# creating the blank string wherein we will add all the text.\n",
    "md_output = ''\n",
    "# iterating over all cells\n",
    "for cell in cells:\n",
    "    str1 = ''.join(cell['source']) + '\\n'\n",
    "    if cell['cell_type']=='markdown':\n",
    "        md_output += str1\n",
    "    \n",
    "    if cell['cell_type'] == 'code':\n",
    "        md_output += \"\\n```py\\n\" + str1 + \"\\n```\\n\""
   ]
  },
  {
   "cell_type": "markdown",
   "id": "0ed13d9e",
   "metadata": {},
   "source": [
    "Here we did not append any code output. But without it the markdown file does not make uch sense. So we will see how to do it now.\n",
    "\n",
    "### Appending code output\n",
    "\n",
    "If the code output (inside ```outputs``` key of the cells) is image type then we will store this image in our local drive and the give the reference to it in the markdown in markdown syntex. If the code output is text, then we can directly append it to the file. So we will modify the above code a bit to accomodate this facility."
   ]
  },
  {
   "cell_type": "code",
   "execution_count": 96,
   "id": "561d8e77",
   "metadata": {},
   "outputs": [],
   "source": [
    "# creating the blank string wherein we will add all the text.\n",
    "md_output = ''\n",
    "\n",
    "# we will create one counter for creating different names for images.\n",
    "img_num = 0\n",
    "# we will store images in the dict with key as its name.\n",
    "images = {}\n",
    "# iterating over all cells\n",
    "for cell in cells:\n",
    "    str1 = ''.join(cell['source']) + '\\n'\n",
    "    if cell['cell_type']=='markdown':\n",
    "        md_output += str1\n",
    "    \n",
    "    if cell['cell_type'] == 'code':\n",
    "        md_output += \"\\n```py\\n\" + str1 + \"```\\n\"\n",
    "        \n",
    "        outputs = cell['outputs']\n",
    "        # we will iterate over all outputs and append it consecutively.\n",
    "        for output in outputs:\n",
    "            if output['output_type'] == 'display_data':\n",
    "                # getting image byte data\n",
    "                img = output['data']['image/png']\n",
    "                img_name = 'output_png_' + str(img_num) + '.png'\n",
    "                img_num += 1\n",
    "                \n",
    "                images[img_name] = img\n",
    "                str1 = \"![png](\" + img_name + \")\"\n",
    "                md_output += '\\n' + str1 + '\\n'\n",
    "            if output['output_type']=='stream':\n",
    "                str1 = \"```py\\n\" + ''.join(output['text']) + \"```\"\n",
    "                md_output += '\\n' + str1 + '\\n'"
   ]
  },
  {
   "cell_type": "markdown",
   "id": "e93ac244",
   "metadata": {},
   "source": [
    "We are done with compiling the *.ipynb* file. We have to now store the *.md* file and images in the local drive.\n",
    "\n",
    "### Saving the markdown and images.\n",
    "\n",
    "We will write the ```md_output``` string to the *.md* file and write the images to *.png* file. We will store the imges in the same folder as in *.md* file, or else we will have to change path of the image in markdown text.\n",
    "\n",
    "Before we store the image we will have to decode it to byte type with base-64."
   ]
  },
  {
   "cell_type": "code",
   "execution_count": 97,
   "id": "eeae292f",
   "metadata": {},
   "outputs": [],
   "source": [
    "import base64\n",
    "\n",
    "filename = 'file1.md'\n",
    "with open(filename,'w') as f:\n",
    "    f.write(md_output)\n",
    "\n",
    "# we will iterate over all the images and save.\n",
    "# do note that the .png is byte like file\n",
    "\n",
    "for img_name in images:\n",
    "    with open(img_name,'wb') as f:\n",
    "        img = images[img_name]\n",
    "        img1 = base64.b64decode(img)\n",
    "        f.write(img1)"
   ]
  },
  {
   "cell_type": "markdown",
   "id": "bbaf2572",
   "metadata": {},
   "source": [
    "Done, We have successfully converted the *.ipynb* file to *.md* markdown file. You can open the file with markdown supported software like VB-code and look at the output. Similarly we can code and convert the file to HTML or any other format, if we know the syntex of the output file.\n",
    "\n",
    "I hope this tutorial helps."
   ]
  }
 ],
 "metadata": {
  "kernelspec": {
   "display_name": "Python 3 (ipykernel)",
   "language": "python",
   "name": "python3"
  },
  "language_info": {
   "codemirror_mode": {
    "name": "ipython",
    "version": 3
   },
   "file_extension": ".py",
   "mimetype": "text/x-python",
   "name": "python",
   "nbconvert_exporter": "python",
   "pygments_lexer": "ipython3",
   "version": "3.10.4"
  }
 },
 "nbformat": 4,
 "nbformat_minor": 5
}
