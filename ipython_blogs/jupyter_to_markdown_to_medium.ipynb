{
 "cells": [
  {
   "cell_type": "markdown",
   "id": "3c073d48",
   "metadata": {},
   "source": [
    "# Convert jupyter notebook to markdown\n",
    "Jupyter notebook gives us the power to write the code and report togather in single file. We can directly make the report out of the notebook file. We can provide explanations and justifications for code in the markdown of jupyter notebook. We can divide our code into multiple sections and run it. We can directly look at the results of the code without requiring to run the full script. There are enumerous advantages of jupyter notebook. Depending upon your requirements, jupyter notebook can make your life a lot easier.\n",
    "\n",
    "Many plateforms accept reports in markdown lanuage. Like *Readme.md* file of Github repository. Here Medium also accepts markdown text for blogging. We can directly create the blog out of the juyter notebook file. This blog itself is created out of jupyter notebook. Now about markdown, Markdown is the lightweight markup language. Meaning you can create some decent articles/reports with markdown without the need of installing heavy softwares.\n",
    "\n",
    "So I will explain you the way to convert the jupyter notebook to markdown. We will use ```nbconvert``` module of python to achieve our goal. But before moving there we will understand how jupyter notebook arranges the data and how we can do some stuffs by our self without the need of ```nbconvert``` module."
   ]
  },
  {
   "cell_type": "markdown",
   "id": "2849c764",
   "metadata": {},
   "source": [
    "## Making Example notebook\n",
    "---"
   ]
  },
  {
   "cell_type": "markdown",
   "id": "00607016",
   "metadata": {},
   "source": [
    "# Trigonometric functions"
   ]
  },
  {
   "cell_type": "markdown",
   "id": "c8a75735",
   "metadata": {},
   "source": [
    "Sine, cosine are the most basic trigonometric functions. Other trigonometric functions are derrivatives of these two. Like tangent is the ratio of sine and cosine.\n",
    "\n",
    "<center>tan(x) = sin(x) / cos(x)</center>\n",
    "\n",
    "so, we will only show sine and cosine plots here."
   ]
  },
  {
   "cell_type": "markdown",
   "id": "2a5741ab",
   "metadata": {},
   "source": [
    "## Plot of Sin(x) and Cos(x)"
   ]
  },
  {
   "cell_type": "code",
   "execution_count": 3,
   "id": "df28a336",
   "metadata": {},
   "outputs": [
    {
     "data": {
      "image/png": "[encoded data removed]",
      "text/plain": [
       "<Figure size 800x200 with 2 Axes>"
      ]
     },
     "metadata": {},
     "output_type": "display_data"
    },
    {
     "name": "stdout",
     "output_type": "stream",
     "text": [
      "The value of sin(pi/6) is 0.5\n"
     ]
    }
   ],
   "source": [
    "import numpy as np\n",
    "import matplotlib.pyplot as plt\n",
    "\n",
    "# 0-360 degrees converted to radians\n",
    "x = np.arange(0,360,0.1) * (np.pi/180)\n",
    "y = np.sin(x)\n",
    "\n",
    "fig = plt.figure(figsize=(8,2))\n",
    "ax = fig.add_subplot(121)\n",
    "ax.plot(x,y)\n",
    "ax.set_title('Sin(x)')\n",
    "ax.grid()\n",
    "\n",
    "ax = fig.add_subplot(122)\n",
    "y = np.cos(x)\n",
    "ax.plot(x,y)\n",
    "ax.set_title('Cos(x)')\n",
    "ax.grid()\n",
    "\n",
    "plt.show()\n",
    "\n",
    "print(f'The value of sin(pi/6) is {round(np.sin(np.pi/6),3)}')"
   ]
  },
  {
   "cell_type": "markdown",
   "id": "ce75a8ff",
   "metadata": {},
   "source": [
    "---\n",
    "Now we will read this file. When we read the *.ipynb* file it kind of looks like json string, so we will convert the output string using json.\n",
    "\n",
    "## Reading the *.ipynb* file"
   ]
  },
  {
   "cell_type": "code",
   "execution_count": 1,
   "id": "4a29b89b",
   "metadata": {},
   "outputs": [
    {
     "name": "stdout",
     "output_type": "stream",
     "text": [
      "These are the keys in the dataframe \n",
      "['cells', 'metadata', 'nbformat', 'nbformat_minor']\n"
     ]
    }
   ],
   "source": [
    "import json\n",
    "filepath = 'notebook1.ipynb'\n",
    "with open(filepath,'r') as f:\n",
    "    str1 = f.read()\n",
    "nb1 = json.loads(str1)\n",
    "print(f'These are the keys in the dataframe \\n{list(nb1.keys())}')"
   ]
  },
  {
   "cell_type": "markdown",
   "id": "e2ada6bd",
   "metadata": {},
   "source": [
    "here ```nb1['cells']``` contains the main data of the notebook. ```nb1['metadata']``` contains the metadata of the jupyter notebook. These metadata can be defined in the notebook from ```Edit > Edit Notebook Metadata ``` menubar. Other keys are self-explanatory.\n",
    "\n",
    "```nb1['cells']``` is the list of dictionaries for each of the cells in the juyter notebook. The keys in the dictionary depends upon the type of cell. Below code shows the same fact. Here ```source``` contain the text/code inside the cell. ```metadata``` contains the metadata defined for any particular cell. These metadata can be tags of the cell. Such as *remove-input* tag. We will further see the usage of these metadata afterwords. ```outputs``` contains the output of the code cell."
   ]
  },
  {
   "cell_type": "code",
   "execution_count": 2,
   "id": "79aa525f",
   "metadata": {},
   "outputs": [
    {
     "name": "stdout",
     "output_type": "stream",
     "text": [
      "Markdown cell type keys = ['cell_type', 'id', 'metadata', 'source']\n",
      "Code cell type keys = ['cell_type', 'execution_count', 'id', 'metadata', 'outputs', 'source']\n"
     ]
    }
   ],
   "source": [
    "print('Markdown cell type keys =',list(nb1['cells'][0].keys()))\n",
    "print('Code cell type keys =',list(nb1['cells'][3].keys()))"
   ]
  },
  {
   "cell_type": "markdown",
   "id": "d6bb339c",
   "metadata": {},
   "source": [
    "### Gathering source"
   ]
  },
  {
   "cell_type": "code",
   "execution_count": 3,
   "id": "02241b5e",
   "metadata": {},
   "outputs": [],
   "source": [
    "str1 = ''\n",
    "resources = {}\n",
    "# we will iterate over all the cells\n",
    "for cell in nb1['cells']:\n",
    "    str2 = ''.join(cell['source'])\n",
    "    # we will see if the cell type is code or markdown\n",
    "    # and accordingly we will add the source\n",
    "    if cell['cell_type'] == 'markdown':\n",
    "        str1 += str2\n",
    "    # we will enclose the code block within ```py\n",
    "    elif cell['cell_type'] == 'code':\n",
    "        str1 = str1 + '```py' + str2 + '``` \\n'\n",
    "        \n",
    "        d1 = cell['outputs']\n",
    "        if d1['output_type'] == \n",
    "        "
   ]
  },
  {
   "cell_type": "code",
   "execution_count": 4,
   "id": "634426a3",
   "metadata": {},
   "outputs": [
    {
     "data": {
      "text/plain": [
       "2"
      ]
     },
     "execution_count": 4,
     "metadata": {},
     "output_type": "execute_result"
    }
   ],
   "source": [
    "len(nb1['cells'][3]['outputs'])"
   ]
  },
  {
   "cell_type": "code",
   "execution_count": 6,
   "id": "2a69c572",
   "metadata": {},
   "outputs": [],
   "source": [
    "d1 = nb1['cells'][3]['outputs']"
   ]
  },
  {
   "cell_type": "code",
   "execution_count": 15,
   "id": "58f53967",
   "metadata": {},
   "outputs": [
    {
     "data": {
      "text/plain": [
       "dict_keys(['data', 'metadata', 'output_type'])"
      ]
     },
     "execution_count": 15,
     "metadata": {},
     "output_type": "execute_result"
    }
   ],
   "source": [
    "d1[0].keys()"
   ]
  },
  {
   "cell_type": "code",
   "execution_count": 14,
   "id": "7532431e",
   "metadata": {},
   "outputs": [
    {
     "data": {
      "text/plain": [
       "'display_data'"
      ]
     },
     "execution_count": 14,
     "metadata": {},
     "output_type": "execute_result"
    }
   ],
   "source": [
    "d1[0]['output_type']"
   ]
  },
  {
   "cell_type": "code",
   "execution_count": null,
   "id": "d04badd5",
   "metadata": {},
   "outputs": [],
   "source": []
  }
 ],
 "metadata": {
  "kernelspec": {
   "display_name": "Python 3 (ipykernel)",
   "language": "python",
   "name": "python3"
  },
  "language_info": {
   "codemirror_mode": {
    "name": "ipython",
    "version": 3
   },
   "file_extension": ".py",
   "mimetype": "text/x-python",
   "name": "python",
   "nbconvert_exporter": "python",
   "pygments_lexer": "ipython3",
   "version": "3.10.4"
  }
 },
 "nbformat": 4,
 "nbformat_minor": 5
}
